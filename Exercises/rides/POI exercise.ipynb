{
 "cells": [
  {
   "cell_type": "markdown",
   "metadata": {},
   "source": [
    "# Exercise #2 - Popular POI\n",
    "You are given two datasets:\n",
    "* Pickup/Dropoff locations of taxi rides in New York - `rides_small_ds.csv`\n",
    "* POI (Points of interest) of New York city - `poi_small_ds.csv`\n",
    "\n",
    "Your goal is to find the most popular places visited by people during morning and evening hours (morning is defined by range 6AM - 11AM, while evening is 17PM - 23PM).\n",
    "\n",
    "We assume that a place was visited if it’s located within 300 meters of pick up / drop off location.\n",
    "\n",
    "Pay attention, even though the input files are 'small', you can end up with lots of data depending on the operations you make, resulting in long waiting times (~5 minutes per job).\n",
    "\n",
    "### Haversine Formula\n",
    "The haversine formula determines the great-circle distance between two points on a sphere given their longitudes and latitudes. You should use it to find the distance in meters between two Geo locations.\n",
    "\n",
    "A method that implements it is already defined below. You can use it as a UDF or to check the algorithm and implement it in any other way."
   ]
  },
  {
   "cell_type": "code",
   "execution_count": null,
   "metadata": {},
   "outputs": [],
   "source": [
    "import os\n",
    "import sys\n",
    "os.environ[\"JAVA_HOME\"] = \"C:\\Program Files\\Java\\jdk1.8.0_212\"\n",
    "os.environ['PYSPARK_PYTHON'] = sys.executable\n",
    "os.environ['PYSPARK_DRIVER_PYTHON'] = sys.executable"
   ]
  },
  {
   "cell_type": "code",
   "execution_count": null,
   "metadata": {},
   "outputs": [],
   "source": [
    "import pyspark\n",
    "from pyspark.sql import SparkSession\n",
    "import pyspark.sql.functions as f"
   ]
  },
  {
   "cell_type": "code",
   "execution_count": null,
   "metadata": {},
   "outputs": [],
   "source": [
    "spark = SparkSession.builder \\\n",
    "    .appName('poi_exercise') \\\n",
    "    .master('local[*]') \\\n",
    "    .config('spark.sql.execution.arrow.pyspark.enabled', True) \\\n",
    "    .config('spark.driver.memory','8G') \\\n",
    "    .config('spark.sql.repl.eagerEval.enabled', True) \\\n",
    "    .getOrCreate()"
   ]
  },
  {
   "cell_type": "code",
   "execution_count": null,
   "metadata": {},
   "outputs": [],
   "source": [
    "from pyspark.sql import functions as F\n",
    "import math\n",
    "\n",
    "def haversine_formula(lat1, lon1, lat2, lon2):\n",
    "    \"\"\"\n",
    "    Return the distance between two coordinates, in meters.\n",
    "    \"\"\"\n",
    "    lat1 = math.pi / 180.0 * lat1\n",
    "    lon1 = math.pi / 180.0 * lon1\n",
    "    lat2 = math.pi / 180.0 * lat2\n",
    "    lon2 = math.pi / 180.0 * lon2\n",
    "    radius = 6371  # km\n",
    "    meters = 1000\n",
    "\n",
    "    # Use the haversine formula:\n",
    "    dlon = lon2 - lon1\n",
    "    dlat = lat2 - lat1\n",
    "\n",
    "    a = math.pow(math.sin(dlat/2),2) + math.cos(lat1) * math.cos(lat2) * math.pow(math.sin(dlon/2),2)\n",
    "    c = 2 * math.atan2(math.sqrt(a), math.sqrt(1-a))\n",
    "    meters = radius * c * meters\n",
    "    return meters"
   ]
  }
 ],
 "metadata": {
  "kernelspec": {
   "display_name": "Python 3",
   "language": "python",
   "name": "python3"
  },
  "language_info": {
   "codemirror_mode": {
    "name": "ipython",
    "version": 3
   },
   "file_extension": ".py",
   "mimetype": "text/x-python",
   "name": "python",
   "nbconvert_exporter": "python",
   "pygments_lexer": "ipython3",
   "version": "3.7.9"
  }
 },
 "nbformat": 4,
 "nbformat_minor": 4
}
