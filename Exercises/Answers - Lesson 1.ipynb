{
 "cells": [
  {
   "cell_type": "code",
   "execution_count": 2,
   "metadata": {},
   "outputs": [],
   "source": [
    "import pyspark"
   ]
  },
  {
   "cell_type": "code",
   "execution_count": 3,
   "metadata": {},
   "outputs": [],
   "source": [
    "from pyspark.sql import SparkSession"
   ]
  },
  {
   "cell_type": "code",
   "execution_count": 4,
   "metadata": {},
   "outputs": [],
   "source": [
    "spark = SparkSession.builder \\\n",
    "    .appName('pyspark_exercise') \\\n",
    "    .master('local[*]') \\\n",
    "    .config('spark.sql.execution.arrow.pyspark.enabled', True) \\\n",
    "    .config('spark.sql.session.timeZone', 'UTC') \\\n",
    "    .config('spark.driver.memory','8G') \\\n",
    "    .config('spark.sql.repl.eagerEval.enabled', True) \\\n",
    "    .getOrCreate()"
   ]
  },
  {
   "cell_type": "code",
   "execution_count": 5,
   "metadata": {},
   "outputs": [],
   "source": [
    "file = \"../data/occupation.csv\""
   ]
  },
  {
   "cell_type": "code",
   "execution_count": 7,
   "metadata": {},
   "outputs": [],
   "source": [
    "df = spark.read.option(\"delimiter\", \"|\") \\\n",
    "    .option(\"inferSchema\", \"true\") \\\n",
    "    .option(\"header\", \"true\") \\\n",
    "    .csv(file)"
   ]
  },
  {
   "cell_type": "markdown",
   "metadata": {},
   "source": [
    "1. print schema:"
   ]
  },
  {
   "cell_type": "code",
   "execution_count": 8,
   "metadata": {},
   "outputs": [
    {
     "data": {
      "text/plain": [
       "['user_id', 'age', 'gender', 'occupation', 'zip_code']"
      ]
     },
     "execution_count": 8,
     "metadata": {},
     "output_type": "execute_result"
    }
   ],
   "source": [
    "df.columns"
   ]
  },
  {
   "cell_type": "code",
   "execution_count": 9,
   "metadata": {},
   "outputs": [
    {
     "name": "stdout",
     "output_type": "stream",
     "text": [
      "root\n",
      " |-- user_id: integer (nullable = true)\n",
      " |-- age: integer (nullable = true)\n",
      " |-- gender: string (nullable = true)\n",
      " |-- occupation: string (nullable = true)\n",
      " |-- zip_code: string (nullable = true)\n",
      "\n"
     ]
    }
   ],
   "source": [
    "df.printSchema()"
   ]
  },
  {
   "cell_type": "code",
   "execution_count": 10,
   "metadata": {},
   "outputs": [
    {
     "data": {
      "text/plain": [
       "943"
      ]
     },
     "execution_count": 10,
     "metadata": {},
     "output_type": "execute_result"
    }
   ],
   "source": [
    "df.count()"
   ]
  },
  {
   "cell_type": "code",
   "execution_count": 11,
   "metadata": {},
   "outputs": [
    {
     "name": "stdout",
     "output_type": "stream",
     "text": [
      "+-------+---+------+-------------+--------+\n",
      "|user_id|age|gender|   occupation|zip_code|\n",
      "+-------+---+------+-------------+--------+\n",
      "|      1| 24|     M|   technician|   85711|\n",
      "|      2| 53|     F|        other|   94043|\n",
      "|      3| 23|     M|       writer|   32067|\n",
      "|      4| 24|     M|   technician|   43537|\n",
      "|      5| 33|     F|        other|   15213|\n",
      "|      6| 42|     M|    executive|   98101|\n",
      "|      7| 57|     M|administrator|   91344|\n",
      "|      8| 36|     M|administrator|   05201|\n",
      "|      9| 29|     M|      student|   01002|\n",
      "|     10| 53|     M|       lawyer|   90703|\n",
      "+-------+---+------+-------------+--------+\n",
      "only showing top 10 rows\n",
      "\n"
     ]
    }
   ],
   "source": [
    "df.show(10)"
   ]
  },
  {
   "cell_type": "code",
   "execution_count": 12,
   "metadata": {},
   "outputs": [
    {
     "data": {
      "text/html": [
       "<table border='1'>\n",
       "<tr><th>user_id</th><th>age</th></tr>\n",
       "<tr><td>1</td><td>24</td></tr>\n",
       "<tr><td>2</td><td>53</td></tr>\n",
       "<tr><td>3</td><td>23</td></tr>\n",
       "<tr><td>4</td><td>24</td></tr>\n",
       "<tr><td>5</td><td>33</td></tr>\n",
       "<tr><td>6</td><td>42</td></tr>\n",
       "<tr><td>7</td><td>57</td></tr>\n",
       "<tr><td>8</td><td>36</td></tr>\n",
       "<tr><td>9</td><td>29</td></tr>\n",
       "<tr><td>10</td><td>53</td></tr>\n",
       "<tr><td>11</td><td>39</td></tr>\n",
       "<tr><td>12</td><td>28</td></tr>\n",
       "<tr><td>13</td><td>47</td></tr>\n",
       "<tr><td>14</td><td>45</td></tr>\n",
       "<tr><td>15</td><td>49</td></tr>\n",
       "<tr><td>16</td><td>21</td></tr>\n",
       "<tr><td>17</td><td>30</td></tr>\n",
       "<tr><td>18</td><td>35</td></tr>\n",
       "<tr><td>19</td><td>40</td></tr>\n",
       "<tr><td>20</td><td>42</td></tr>\n",
       "</table>\n",
       "only showing top 20 rows\n"
      ],
      "text/plain": [
       "+-------+---+\n",
       "|user_id|age|\n",
       "+-------+---+\n",
       "|      1| 24|\n",
       "|      2| 53|\n",
       "|      3| 23|\n",
       "|      4| 24|\n",
       "|      5| 33|\n",
       "|      6| 42|\n",
       "|      7| 57|\n",
       "|      8| 36|\n",
       "|      9| 29|\n",
       "|     10| 53|\n",
       "|     11| 39|\n",
       "|     12| 28|\n",
       "|     13| 47|\n",
       "|     14| 45|\n",
       "|     15| 49|\n",
       "|     16| 21|\n",
       "|     17| 30|\n",
       "|     18| 35|\n",
       "|     19| 40|\n",
       "|     20| 42|\n",
       "+-------+---+\n",
       "only showing top 20 rows"
      ]
     },
     "execution_count": 12,
     "metadata": {},
     "output_type": "execute_result"
    }
   ],
   "source": [
    "df[['user_id', 'age']]"
   ]
  },
  {
   "cell_type": "code",
   "execution_count": 13,
   "metadata": {},
   "outputs": [
    {
     "data": {
      "text/html": [
       "<table border='1'>\n",
       "<tr><th>user_id</th><th>age</th><th>gender</th><th>occupation</th><th>zip_code</th></tr>\n",
       "<tr><td>1</td><td>24</td><td>M</td><td>technician</td><td>85711</td></tr>\n",
       "<tr><td>3</td><td>23</td><td>M</td><td>writer</td><td>32067</td></tr>\n",
       "<tr><td>4</td><td>24</td><td>M</td><td>technician</td><td>43537</td></tr>\n",
       "<tr><td>9</td><td>29</td><td>M</td><td>student</td><td>01002</td></tr>\n",
       "<tr><td>12</td><td>28</td><td>F</td><td>other</td><td>06405</td></tr>\n",
       "<tr><td>16</td><td>21</td><td>M</td><td>entertainment</td><td>10309</td></tr>\n",
       "<tr><td>17</td><td>30</td><td>M</td><td>programmer</td><td>06355</td></tr>\n",
       "<tr><td>21</td><td>26</td><td>M</td><td>writer</td><td>30068</td></tr>\n",
       "<tr><td>22</td><td>25</td><td>M</td><td>writer</td><td>40206</td></tr>\n",
       "<tr><td>23</td><td>30</td><td>F</td><td>artist</td><td>48197</td></tr>\n",
       "<tr><td>24</td><td>21</td><td>F</td><td>artist</td><td>94533</td></tr>\n",
       "<tr><td>30</td><td>7</td><td>M</td><td>student</td><td>55436</td></tr>\n",
       "<tr><td>31</td><td>24</td><td>M</td><td>artist</td><td>10003</td></tr>\n",
       "<tr><td>32</td><td>28</td><td>F</td><td>student</td><td>78741</td></tr>\n",
       "<tr><td>33</td><td>23</td><td>M</td><td>student</td><td>27510</td></tr>\n",
       "<tr><td>35</td><td>20</td><td>F</td><td>homemaker</td><td>42459</td></tr>\n",
       "<tr><td>36</td><td>19</td><td>F</td><td>student</td><td>93117</td></tr>\n",
       "<tr><td>37</td><td>23</td><td>M</td><td>student</td><td>55105</td></tr>\n",
       "<tr><td>38</td><td>28</td><td>F</td><td>other</td><td>54467</td></tr>\n",
       "<tr><td>42</td><td>30</td><td>M</td><td>administrator</td><td>17870</td></tr>\n",
       "</table>\n",
       "only showing top 20 rows\n"
      ],
      "text/plain": [
       "+-------+---+------+-------------+--------+\n",
       "|user_id|age|gender|   occupation|zip_code|\n",
       "+-------+---+------+-------------+--------+\n",
       "|      1| 24|     M|   technician|   85711|\n",
       "|      3| 23|     M|       writer|   32067|\n",
       "|      4| 24|     M|   technician|   43537|\n",
       "|      9| 29|     M|      student|   01002|\n",
       "|     12| 28|     F|        other|   06405|\n",
       "|     16| 21|     M|entertainment|   10309|\n",
       "|     17| 30|     M|   programmer|   06355|\n",
       "|     21| 26|     M|       writer|   30068|\n",
       "|     22| 25|     M|       writer|   40206|\n",
       "|     23| 30|     F|       artist|   48197|\n",
       "|     24| 21|     F|       artist|   94533|\n",
       "|     30|  7|     M|      student|   55436|\n",
       "|     31| 24|     M|       artist|   10003|\n",
       "|     32| 28|     F|      student|   78741|\n",
       "|     33| 23|     M|      student|   27510|\n",
       "|     35| 20|     F|    homemaker|   42459|\n",
       "|     36| 19|     F|      student|   93117|\n",
       "|     37| 23|     M|      student|   55105|\n",
       "|     38| 28|     F|        other|   54467|\n",
       "|     42| 30|     M|administrator|   17870|\n",
       "+-------+---+------+-------------+--------+\n",
       "only showing top 20 rows"
      ]
     },
     "execution_count": 13,
     "metadata": {},
     "output_type": "execute_result"
    }
   ],
   "source": [
    "df.filter(df['age'] <= 30)"
   ]
  },
  {
   "cell_type": "code",
   "execution_count": 14,
   "metadata": {},
   "outputs": [],
   "source": [
    "df2 = df.withColumnRenamed(\"zip_code\", \"postal_code\")"
   ]
  },
  {
   "cell_type": "code",
   "execution_count": 15,
   "metadata": {},
   "outputs": [
    {
     "data": {
      "text/html": [
       "<table border='1'>\n",
       "<tr><th>user_id</th><th>age</th><th>gender</th><th>occupation</th><th>postal_code</th></tr>\n",
       "<tr><td>1</td><td>24</td><td>M</td><td>technician</td><td>85711</td></tr>\n",
       "<tr><td>2</td><td>53</td><td>F</td><td>other</td><td>94043</td></tr>\n",
       "<tr><td>3</td><td>23</td><td>M</td><td>writer</td><td>32067</td></tr>\n",
       "<tr><td>4</td><td>24</td><td>M</td><td>technician</td><td>43537</td></tr>\n",
       "<tr><td>5</td><td>33</td><td>F</td><td>other</td><td>15213</td></tr>\n",
       "<tr><td>6</td><td>42</td><td>M</td><td>executive</td><td>98101</td></tr>\n",
       "<tr><td>7</td><td>57</td><td>M</td><td>administrator</td><td>91344</td></tr>\n",
       "<tr><td>8</td><td>36</td><td>M</td><td>administrator</td><td>05201</td></tr>\n",
       "<tr><td>9</td><td>29</td><td>M</td><td>student</td><td>01002</td></tr>\n",
       "<tr><td>10</td><td>53</td><td>M</td><td>lawyer</td><td>90703</td></tr>\n",
       "<tr><td>11</td><td>39</td><td>F</td><td>other</td><td>30329</td></tr>\n",
       "<tr><td>12</td><td>28</td><td>F</td><td>other</td><td>06405</td></tr>\n",
       "<tr><td>13</td><td>47</td><td>M</td><td>educator</td><td>29206</td></tr>\n",
       "<tr><td>14</td><td>45</td><td>M</td><td>scientist</td><td>55106</td></tr>\n",
       "<tr><td>15</td><td>49</td><td>F</td><td>educator</td><td>97301</td></tr>\n",
       "<tr><td>16</td><td>21</td><td>M</td><td>entertainment</td><td>10309</td></tr>\n",
       "<tr><td>17</td><td>30</td><td>M</td><td>programmer</td><td>06355</td></tr>\n",
       "<tr><td>18</td><td>35</td><td>F</td><td>other</td><td>37212</td></tr>\n",
       "<tr><td>19</td><td>40</td><td>M</td><td>librarian</td><td>02138</td></tr>\n",
       "<tr><td>20</td><td>42</td><td>F</td><td>homemaker</td><td>95660</td></tr>\n",
       "</table>\n",
       "only showing top 20 rows\n"
      ],
      "text/plain": [
       "+-------+---+------+-------------+-----------+\n",
       "|user_id|age|gender|   occupation|postal_code|\n",
       "+-------+---+------+-------------+-----------+\n",
       "|      1| 24|     M|   technician|      85711|\n",
       "|      2| 53|     F|        other|      94043|\n",
       "|      3| 23|     M|       writer|      32067|\n",
       "|      4| 24|     M|   technician|      43537|\n",
       "|      5| 33|     F|        other|      15213|\n",
       "|      6| 42|     M|    executive|      98101|\n",
       "|      7| 57|     M|administrator|      91344|\n",
       "|      8| 36|     M|administrator|      05201|\n",
       "|      9| 29|     M|      student|      01002|\n",
       "|     10| 53|     M|       lawyer|      90703|\n",
       "|     11| 39|     F|        other|      30329|\n",
       "|     12| 28|     F|        other|      06405|\n",
       "|     13| 47|     M|     educator|      29206|\n",
       "|     14| 45|     M|    scientist|      55106|\n",
       "|     15| 49|     F|     educator|      97301|\n",
       "|     16| 21|     M|entertainment|      10309|\n",
       "|     17| 30|     M|   programmer|      06355|\n",
       "|     18| 35|     F|        other|      37212|\n",
       "|     19| 40|     M|    librarian|      02138|\n",
       "|     20| 42|     F|    homemaker|      95660|\n",
       "+-------+---+------+-------------+-----------+\n",
       "only showing top 20 rows"
      ]
     },
     "execution_count": 15,
     "metadata": {},
     "output_type": "execute_result"
    }
   ],
   "source": [
    "df2"
   ]
  },
  {
   "cell_type": "code",
   "execution_count": 16,
   "metadata": {},
   "outputs": [],
   "source": [
    "import pyspark.sql.functions as f"
   ]
  },
  {
   "cell_type": "code",
   "execution_count": 17,
   "metadata": {},
   "outputs": [
    {
     "data": {
      "text/html": [
       "<table border='1'>\n",
       "<tr><th>user_id</th><th>age</th><th>gender</th><th>occupation</th><th>zip_code</th><th>new</th></tr>\n",
       "<tr><td>1</td><td>24</td><td>M</td><td>technician</td><td>85711</td><td>unknown</td></tr>\n",
       "<tr><td>2</td><td>53</td><td>F</td><td>other</td><td>94043</td><td>unknown</td></tr>\n",
       "<tr><td>3</td><td>23</td><td>M</td><td>writer</td><td>32067</td><td>unknown</td></tr>\n",
       "<tr><td>4</td><td>24</td><td>M</td><td>technician</td><td>43537</td><td>unknown</td></tr>\n",
       "<tr><td>5</td><td>33</td><td>F</td><td>other</td><td>15213</td><td>unknown</td></tr>\n",
       "<tr><td>6</td><td>42</td><td>M</td><td>executive</td><td>98101</td><td>unknown</td></tr>\n",
       "<tr><td>7</td><td>57</td><td>M</td><td>administrator</td><td>91344</td><td>unknown</td></tr>\n",
       "<tr><td>8</td><td>36</td><td>M</td><td>administrator</td><td>05201</td><td>unknown</td></tr>\n",
       "<tr><td>9</td><td>29</td><td>M</td><td>student</td><td>01002</td><td>unknown</td></tr>\n",
       "<tr><td>10</td><td>53</td><td>M</td><td>lawyer</td><td>90703</td><td>unknown</td></tr>\n",
       "<tr><td>11</td><td>39</td><td>F</td><td>other</td><td>30329</td><td>unknown</td></tr>\n",
       "<tr><td>12</td><td>28</td><td>F</td><td>other</td><td>06405</td><td>unknown</td></tr>\n",
       "<tr><td>13</td><td>47</td><td>M</td><td>educator</td><td>29206</td><td>unknown</td></tr>\n",
       "<tr><td>14</td><td>45</td><td>M</td><td>scientist</td><td>55106</td><td>unknown</td></tr>\n",
       "<tr><td>15</td><td>49</td><td>F</td><td>educator</td><td>97301</td><td>unknown</td></tr>\n",
       "<tr><td>16</td><td>21</td><td>M</td><td>entertainment</td><td>10309</td><td>unknown</td></tr>\n",
       "<tr><td>17</td><td>30</td><td>M</td><td>programmer</td><td>06355</td><td>unknown</td></tr>\n",
       "<tr><td>18</td><td>35</td><td>F</td><td>other</td><td>37212</td><td>unknown</td></tr>\n",
       "<tr><td>19</td><td>40</td><td>M</td><td>librarian</td><td>02138</td><td>unknown</td></tr>\n",
       "<tr><td>20</td><td>42</td><td>F</td><td>homemaker</td><td>95660</td><td>unknown</td></tr>\n",
       "</table>\n",
       "only showing top 20 rows\n"
      ],
      "text/plain": [
       "+-------+---+------+-------------+--------+-------+\n",
       "|user_id|age|gender|   occupation|zip_code|    new|\n",
       "+-------+---+------+-------------+--------+-------+\n",
       "|      1| 24|     M|   technician|   85711|unknown|\n",
       "|      2| 53|     F|        other|   94043|unknown|\n",
       "|      3| 23|     M|       writer|   32067|unknown|\n",
       "|      4| 24|     M|   technician|   43537|unknown|\n",
       "|      5| 33|     F|        other|   15213|unknown|\n",
       "|      6| 42|     M|    executive|   98101|unknown|\n",
       "|      7| 57|     M|administrator|   91344|unknown|\n",
       "|      8| 36|     M|administrator|   05201|unknown|\n",
       "|      9| 29|     M|      student|   01002|unknown|\n",
       "|     10| 53|     M|       lawyer|   90703|unknown|\n",
       "|     11| 39|     F|        other|   30329|unknown|\n",
       "|     12| 28|     F|        other|   06405|unknown|\n",
       "|     13| 47|     M|     educator|   29206|unknown|\n",
       "|     14| 45|     M|    scientist|   55106|unknown|\n",
       "|     15| 49|     F|     educator|   97301|unknown|\n",
       "|     16| 21|     M|entertainment|   10309|unknown|\n",
       "|     17| 30|     M|   programmer|   06355|unknown|\n",
       "|     18| 35|     F|        other|   37212|unknown|\n",
       "|     19| 40|     M|    librarian|   02138|unknown|\n",
       "|     20| 42|     F|    homemaker|   95660|unknown|\n",
       "+-------+---+------+-------------+--------+-------+\n",
       "only showing top 20 rows"
      ]
     },
     "execution_count": 17,
     "metadata": {},
     "output_type": "execute_result"
    }
   ],
   "source": [
    "df.withColumn(\"new\", f.lit(\"unknown\"))"
   ]
  },
  {
   "cell_type": "code",
   "execution_count": 18,
   "metadata": {},
   "outputs": [
    {
     "data": {
      "text/html": [
       "<table border='1'>\n",
       "<tr><th>user_id</th><th>age</th><th>gender</th><th>occupation</th><th>zip_code</th><th>enriched</th></tr>\n",
       "<tr><td>1</td><td>24</td><td>M</td><td>technician</td><td>85711</td><td>0ef37031ca05ded69...</td></tr>\n",
       "<tr><td>2</td><td>53</td><td>F</td><td>other</td><td>94043</td><td>6ae39b3f38de2240b...</td></tr>\n",
       "<tr><td>3</td><td>23</td><td>M</td><td>writer</td><td>32067</td><td>32012097fe8ac018c...</td></tr>\n",
       "<tr><td>4</td><td>24</td><td>M</td><td>technician</td><td>43537</td><td>10fa97233fb64af4b...</td></tr>\n",
       "<tr><td>5</td><td>33</td><td>F</td><td>other</td><td>15213</td><td>05f7136bcb0b2ca2d...</td></tr>\n",
       "<tr><td>6</td><td>42</td><td>M</td><td>executive</td><td>98101</td><td>468977905e16600cb...</td></tr>\n",
       "<tr><td>7</td><td>57</td><td>M</td><td>administrator</td><td>91344</td><td>82b5f7f58bb61cf00...</td></tr>\n",
       "<tr><td>8</td><td>36</td><td>M</td><td>administrator</td><td>05201</td><td>ad384f4dec7f2b218...</td></tr>\n",
       "<tr><td>9</td><td>29</td><td>M</td><td>student</td><td>01002</td><td>45568b715fda02135...</td></tr>\n",
       "<tr><td>10</td><td>53</td><td>M</td><td>lawyer</td><td>90703</td><td>b803a999ff8aafc51...</td></tr>\n",
       "<tr><td>11</td><td>39</td><td>F</td><td>other</td><td>30329</td><td>76cb2624c9d093d02...</td></tr>\n",
       "<tr><td>12</td><td>28</td><td>F</td><td>other</td><td>06405</td><td>bb91fa2942e9d2a6c...</td></tr>\n",
       "<tr><td>13</td><td>47</td><td>M</td><td>educator</td><td>29206</td><td>24cc4e6e1e5504cef...</td></tr>\n",
       "<tr><td>14</td><td>45</td><td>M</td><td>scientist</td><td>55106</td><td>2c981a459045e0431...</td></tr>\n",
       "<tr><td>15</td><td>49</td><td>F</td><td>educator</td><td>97301</td><td>8316cdd482e9c1d4c...</td></tr>\n",
       "<tr><td>16</td><td>21</td><td>M</td><td>entertainment</td><td>10309</td><td>2e667fca5e24ac13d...</td></tr>\n",
       "<tr><td>17</td><td>30</td><td>M</td><td>programmer</td><td>06355</td><td>77c21357d4c3507fb...</td></tr>\n",
       "<tr><td>18</td><td>35</td><td>F</td><td>other</td><td>37212</td><td>ffec991bf0f35f7e7...</td></tr>\n",
       "<tr><td>19</td><td>40</td><td>M</td><td>librarian</td><td>02138</td><td>8caaf4fb70d1f69c2...</td></tr>\n",
       "<tr><td>20</td><td>42</td><td>F</td><td>homemaker</td><td>95660</td><td>c05f8067f8dd9d03c...</td></tr>\n",
       "</table>\n",
       "only showing top 20 rows\n"
      ],
      "text/plain": [
       "+-------+---+------+-------------+--------+--------------------+\n",
       "|user_id|age|gender|   occupation|zip_code|            enriched|\n",
       "+-------+---+------+-------------+--------+--------------------+\n",
       "|      1| 24|     M|   technician|   85711|0ef37031ca05ded69...|\n",
       "|      2| 53|     F|        other|   94043|6ae39b3f38de2240b...|\n",
       "|      3| 23|     M|       writer|   32067|32012097fe8ac018c...|\n",
       "|      4| 24|     M|   technician|   43537|10fa97233fb64af4b...|\n",
       "|      5| 33|     F|        other|   15213|05f7136bcb0b2ca2d...|\n",
       "|      6| 42|     M|    executive|   98101|468977905e16600cb...|\n",
       "|      7| 57|     M|administrator|   91344|82b5f7f58bb61cf00...|\n",
       "|      8| 36|     M|administrator|   05201|ad384f4dec7f2b218...|\n",
       "|      9| 29|     M|      student|   01002|45568b715fda02135...|\n",
       "|     10| 53|     M|       lawyer|   90703|b803a999ff8aafc51...|\n",
       "|     11| 39|     F|        other|   30329|76cb2624c9d093d02...|\n",
       "|     12| 28|     F|        other|   06405|bb91fa2942e9d2a6c...|\n",
       "|     13| 47|     M|     educator|   29206|24cc4e6e1e5504cef...|\n",
       "|     14| 45|     M|    scientist|   55106|2c981a459045e0431...|\n",
       "|     15| 49|     F|     educator|   97301|8316cdd482e9c1d4c...|\n",
       "|     16| 21|     M|entertainment|   10309|2e667fca5e24ac13d...|\n",
       "|     17| 30|     M|   programmer|   06355|77c21357d4c3507fb...|\n",
       "|     18| 35|     F|        other|   37212|ffec991bf0f35f7e7...|\n",
       "|     19| 40|     M|    librarian|   02138|8caaf4fb70d1f69c2...|\n",
       "|     20| 42|     F|    homemaker|   95660|c05f8067f8dd9d03c...|\n",
       "+-------+---+------+-------------+--------+--------------------+\n",
       "only showing top 20 rows"
      ]
     },
     "execution_count": 18,
     "metadata": {},
     "output_type": "execute_result"
    }
   ],
   "source": [
    "df.withColumn(\"enriched\", f.md5(df[\"zip_code\"]))"
   ]
  },
  {
   "cell_type": "code",
   "execution_count": 19,
   "metadata": {},
   "outputs": [
    {
     "data": {
      "text/html": [
       "<table border='1'>\n",
       "<tr><th>avg(age)</th></tr>\n",
       "<tr><td>34.05196182396607</td></tr>\n",
       "</table>\n"
      ],
      "text/plain": [
       "+-----------------+\n",
       "|         avg(age)|\n",
       "+-----------------+\n",
       "|34.05196182396607|\n",
       "+-----------------+"
      ]
     },
     "execution_count": 19,
     "metadata": {},
     "output_type": "execute_result"
    }
   ],
   "source": [
    "df.agg(f.avg(df.age))"
   ]
  },
  {
   "cell_type": "code",
   "execution_count": 20,
   "metadata": {},
   "outputs": [
    {
     "name": "stdout",
     "output_type": "stream",
     "text": [
      "+-----------------+\n",
      "|         avg(age)|\n",
      "+-----------------+\n",
      "|34.05196182396607|\n",
      "+-----------------+\n",
      "\n"
     ]
    }
   ],
   "source": [
    "df.select(f.avg(\"age\")).show()"
   ]
  },
  {
   "cell_type": "code",
   "execution_count": 21,
   "metadata": {},
   "outputs": [
    {
     "data": {
      "text/html": [
       "<table border='1'>\n",
       "<tr><th>user_id</th><th>age</th><th>gender</th><th>occupation</th><th>zip_code</th></tr>\n",
       "<tr><td>481</td><td>73</td><td>M</td><td>retired</td><td>37771</td></tr>\n",
       "<tr><td>803</td><td>70</td><td>M</td><td>administrator</td><td>78212</td></tr>\n",
       "<tr><td>767</td><td>70</td><td>M</td><td>engineer</td><td>00000</td></tr>\n",
       "<tr><td>860</td><td>70</td><td>F</td><td>retired</td><td>48322</td></tr>\n",
       "<tr><td>559</td><td>69</td><td>M</td><td>executive</td><td>10022</td></tr>\n",
       "<tr><td>585</td><td>69</td><td>M</td><td>librarian</td><td>98501</td></tr>\n",
       "<tr><td>349</td><td>68</td><td>M</td><td>retired</td><td>61455</td></tr>\n",
       "<tr><td>573</td><td>68</td><td>M</td><td>retired</td><td>48911</td></tr>\n",
       "<tr><td>211</td><td>66</td><td>M</td><td>salesman</td><td>32605</td></tr>\n",
       "<tr><td>651</td><td>65</td><td>M</td><td>retired</td><td>02903</td></tr>\n",
       "<tr><td>564</td><td>65</td><td>M</td><td>retired</td><td>94591</td></tr>\n",
       "<tr><td>318</td><td>65</td><td>M</td><td>retired</td><td>06518</td></tr>\n",
       "<tr><td>423</td><td>64</td><td>M</td><td>other</td><td>91606</td></tr>\n",
       "<tr><td>845</td><td>64</td><td>M</td><td>doctor</td><td>97405</td></tr>\n",
       "<tr><td>364</td><td>63</td><td>M</td><td>engineer</td><td>01810</td></tr>\n",
       "<tr><td>777</td><td>63</td><td>M</td><td>programmer</td><td>01810</td></tr>\n",
       "<tr><td>858</td><td>63</td><td>M</td><td>educator</td><td>09645</td></tr>\n",
       "<tr><td>266</td><td>62</td><td>F</td><td>administrator</td><td>78756</td></tr>\n",
       "<tr><td>520</td><td>62</td><td>M</td><td>healthcare</td><td>12603</td></tr>\n",
       "<tr><td>106</td><td>61</td><td>M</td><td>retired</td><td>55125</td></tr>\n",
       "</table>\n",
       "only showing top 20 rows\n"
      ],
      "text/plain": [
       "+-------+---+------+-------------+--------+\n",
       "|user_id|age|gender|   occupation|zip_code|\n",
       "+-------+---+------+-------------+--------+\n",
       "|    481| 73|     M|      retired|   37771|\n",
       "|    803| 70|     M|administrator|   78212|\n",
       "|    767| 70|     M|     engineer|   00000|\n",
       "|    860| 70|     F|      retired|   48322|\n",
       "|    559| 69|     M|    executive|   10022|\n",
       "|    585| 69|     M|    librarian|   98501|\n",
       "|    349| 68|     M|      retired|   61455|\n",
       "|    573| 68|     M|      retired|   48911|\n",
       "|    211| 66|     M|     salesman|   32605|\n",
       "|    651| 65|     M|      retired|   02903|\n",
       "|    564| 65|     M|      retired|   94591|\n",
       "|    318| 65|     M|      retired|   06518|\n",
       "|    423| 64|     M|        other|   91606|\n",
       "|    845| 64|     M|       doctor|   97405|\n",
       "|    364| 63|     M|     engineer|   01810|\n",
       "|    777| 63|     M|   programmer|   01810|\n",
       "|    858| 63|     M|     educator|   09645|\n",
       "|    266| 62|     F|administrator|   78756|\n",
       "|    520| 62|     M|   healthcare|   12603|\n",
       "|    106| 61|     M|      retired|   55125|\n",
       "+-------+---+------+-------------+--------+\n",
       "only showing top 20 rows"
      ]
     },
     "execution_count": 21,
     "metadata": {},
     "output_type": "execute_result"
    }
   ],
   "source": [
    "df.sort(\"age\", ascending = False)"
   ]
  },
  {
   "cell_type": "code",
   "execution_count": 22,
   "metadata": {},
   "outputs": [
    {
     "name": "stdout",
     "output_type": "stream",
     "text": [
      "+----------+-----+\n",
      "|occupation|count|\n",
      "+----------+-----+\n",
      "|   student|  196|\n",
      "+----------+-----+\n",
      "only showing top 1 row\n",
      "\n"
     ]
    }
   ],
   "source": [
    "df.groupBy(\"occupation\").count().alias(\"count\").sort(\"count\", ascending=False) \\\n",
    ".show(1)"
   ]
  },
  {
   "cell_type": "code",
   "execution_count": 23,
   "metadata": {},
   "outputs": [
    {
     "data": {
      "text/plain": [
       "795"
      ]
     },
     "execution_count": 23,
     "metadata": {},
     "output_type": "execute_result"
    }
   ],
   "source": [
    "df.select(\"zip_code\").distinct().count()"
   ]
  },
  {
   "cell_type": "code",
   "execution_count": 25,
   "metadata": {},
   "outputs": [
    {
     "data": {
      "text/html": [
       "<table border='1'>\n",
       "<tr><th>min(age)</th><th>max(age)</th></tr>\n",
       "<tr><td>7</td><td>73</td></tr>\n",
       "</table>\n"
      ],
      "text/plain": [
       "+--------+--------+\n",
       "|min(age)|max(age)|\n",
       "+--------+--------+\n",
       "|       7|      73|\n",
       "+--------+--------+"
      ]
     },
     "execution_count": 25,
     "metadata": {},
     "output_type": "execute_result"
    }
   ],
   "source": [
    "df.agg(f.min(df.age), f.max(df.age))"
   ]
  },
  {
   "cell_type": "code",
   "execution_count": 26,
   "metadata": {},
   "outputs": [
    {
     "name": "stdout",
     "output_type": "stream",
     "text": [
      "+-------+---+------+-------------+--------+\n",
      "|user_id|age|gender|   occupation|zip_code|\n",
      "+-------+---+------+-------------+--------+\n",
      "|     30|  7|     M|      student|   55436|\n",
      "|    471| 10|     M|      student|   77459|\n",
      "|    289| 11|     M|         none|   94619|\n",
      "|    142| 13|     M|        other|   48118|\n",
      "|    628| 13|     M|         none|   94306|\n",
      "|    674| 13|     F|      student|   55337|\n",
      "|    609| 13|     F|      student|   55106|\n",
      "|    880| 13|     M|      student|   83702|\n",
      "|    206| 14|     F|      student|   53115|\n",
      "|    813| 14|     F|      student|   02136|\n",
      "|    887| 14|     F|      student|   27249|\n",
      "|    179| 15|     M|entertainment|   20755|\n",
      "|    101| 15|     M|      student|   05146|\n",
      "|    281| 15|     F|      student|   06059|\n",
      "|    618| 15|     F|      student|   44212|\n",
      "|    461| 15|     M|      student|   98102|\n",
      "|    849| 15|     F|      student|   25652|\n",
      "|     57| 16|     M|         none|   84010|\n",
      "|    434| 16|     F|      student|   49705|\n",
      "|    451| 16|     M|      student|   48446|\n",
      "+-------+---+------+-------------+--------+\n",
      "only showing top 20 rows\n",
      "\n"
     ]
    }
   ],
   "source": [
    "df.sort(\"age\").show()"
   ]
  },
  {
   "cell_type": "code",
   "execution_count": 27,
   "metadata": {},
   "outputs": [
    {
     "name": "stdout",
     "output_type": "stream",
     "text": [
      "+-------------+------+------------------+\n",
      "|   occupation|gender|          avg(age)|\n",
      "+-------------+------+------------------+\n",
      "|   technician|     M| 32.96153846153846|\n",
      "|     educator|     F| 39.11538461538461|\n",
      "|       lawyer|     F|              39.5|\n",
      "|entertainment|     F|              31.0|\n",
      "|       lawyer|     M|              36.2|\n",
      "|      retired|     F|              70.0|\n",
      "|      student|     F|             20.75|\n",
      "|   healthcare|     F| 39.81818181818182|\n",
      "|administrator|     M| 37.16279069767442|\n",
      "|    marketing|     M|            37.875|\n",
      "|     engineer|     F|              29.5|\n",
      "|    homemaker|     F|34.166666666666664|\n",
      "|       artist|     F|30.307692307692307|\n",
      "|         none|     F|              36.5|\n",
      "|       doctor|     M| 43.57142857142857|\n",
      "|       writer|     F| 37.63157894736842|\n",
      "|     educator|     M| 43.10144927536232|\n",
      "|    scientist|     M| 36.32142857142857|\n",
      "|   technician|     F|              38.0|\n",
      "|       writer|     M| 35.34615384615385|\n",
      "+-------------+------+------------------+\n",
      "only showing top 20 rows\n",
      "\n"
     ]
    }
   ],
   "source": [
    "df.groupBy(\"occupation\",\"gender\").agg(f.avg(\"age\")).show()\n"
   ]
  },
  {
   "cell_type": "code",
   "execution_count": 31,
   "metadata": {},
   "outputs": [
    {
     "name": "stdout",
     "output_type": "stream",
     "text": [
      "+-------------+------+------------------+\n",
      "|   occupation|gender|          avg(age)|\n",
      "+-------------+------+------------------+\n",
      "|   technician|     M| 32.96153846153846|\n",
      "|     educator|     F| 39.11538461538461|\n",
      "|       lawyer|     F|              39.5|\n",
      "|entertainment|     F|              31.0|\n",
      "|       lawyer|     M|              36.2|\n",
      "|      retired|     F|              70.0|\n",
      "|      student|     F|             20.75|\n",
      "|   healthcare|     F| 39.81818181818182|\n",
      "|administrator|     M| 37.16279069767442|\n",
      "|    marketing|     M|            37.875|\n",
      "|     engineer|     F|              29.5|\n",
      "|    homemaker|     F|34.166666666666664|\n",
      "|       artist|     F|30.307692307692307|\n",
      "|         none|     F|              36.5|\n",
      "|       doctor|     M| 43.57142857142857|\n",
      "|       writer|     F| 37.63157894736842|\n",
      "|     educator|     M| 43.10144927536232|\n",
      "|    scientist|     M| 36.32142857142857|\n",
      "|   technician|     F|              38.0|\n",
      "|       writer|     M| 35.34615384615385|\n",
      "+-------------+------+------------------+\n",
      "only showing top 20 rows\n",
      "\n"
     ]
    }
   ],
   "source": [
    "df.dropna().groupBy(\"occupation\",\"gender\").agg(f.avg(\"age\")).show()"
   ]
  },
  {
   "cell_type": "code",
   "execution_count": 34,
   "metadata": {},
   "outputs": [
    {
     "data": {
      "text/html": [
       "<table border='1'>\n",
       "<tr><th>user_id</th><th>age</th><th>gender</th><th>occupation</th><th>zip_code</th></tr>\n",
       "<tr><td>57</td><td>16</td><td>M</td><td>none</td><td>84010</td></tr>\n",
       "<tr><td>127</td><td>33</td><td>M</td><td>none</td><td>73439</td></tr>\n",
       "<tr><td>130</td><td>20</td><td>M</td><td>none</td><td>60115</td></tr>\n",
       "<tr><td>256</td><td>35</td><td>F</td><td>none</td><td>39042</td></tr>\n",
       "<tr><td>289</td><td>11</td><td>M</td><td>none</td><td>94619</td></tr>\n",
       "<tr><td>418</td><td>55</td><td>F</td><td>none</td><td>21206</td></tr>\n",
       "<tr><td>628</td><td>13</td><td>M</td><td>none</td><td>94306</td></tr>\n",
       "<tr><td>657</td><td>26</td><td>F</td><td>none</td><td>78704</td></tr>\n",
       "<tr><td>756</td><td>30</td><td>F</td><td>none</td><td>90247</td></tr>\n",
       "</table>\n"
      ],
      "text/plain": [
       "+-------+---+------+----------+--------+\n",
       "|user_id|age|gender|occupation|zip_code|\n",
       "+-------+---+------+----------+--------+\n",
       "|     57| 16|     M|      none|   84010|\n",
       "|    127| 33|     M|      none|   73439|\n",
       "|    130| 20|     M|      none|   60115|\n",
       "|    256| 35|     F|      none|   39042|\n",
       "|    289| 11|     M|      none|   94619|\n",
       "|    418| 55|     F|      none|   21206|\n",
       "|    628| 13|     M|      none|   94306|\n",
       "|    657| 26|     F|      none|   78704|\n",
       "|    756| 30|     F|      none|   90247|\n",
       "+-------+---+------+----------+--------+"
      ]
     },
     "execution_count": 34,
     "metadata": {},
     "output_type": "execute_result"
    }
   ],
   "source": [
    "df.where(f.col(\"occupation\")== f.lit(\"none\"))"
   ]
  },
  {
   "cell_type": "code",
   "execution_count": null,
   "metadata": {},
   "outputs": [],
   "source": []
  }
 ],
 "metadata": {
  "kernelspec": {
   "display_name": "Python 3",
   "language": "python",
   "name": "python3"
  },
  "language_info": {
   "codemirror_mode": {
    "name": "ipython",
    "version": 3
   },
   "file_extension": ".py",
   "mimetype": "text/x-python",
   "name": "python",
   "nbconvert_exporter": "python",
   "pygments_lexer": "ipython3",
   "version": "3.7.9"
  }
 },
 "nbformat": 4,
 "nbformat_minor": 4
}
